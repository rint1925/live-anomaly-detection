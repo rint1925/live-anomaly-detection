{
 "cells": [
  {
   "cell_type": "code",
   "execution_count": 1,
   "metadata": {},
   "outputs": [
    {
     "name": "stdout",
     "output_type": "stream",
     "text": [
      "cuda\n"
     ]
    }
   ],
   "source": [
    "import boto3\n",
    "import sys\n",
    "import cv2\n",
    "from numpy.lib.function_base import copy\n",
    "import torch\n",
    "\n",
    "from feature_extractor import to_segments\n",
    "from utils.utils import build_transforms\n",
    "from utils.load_model import load_models\n",
    "\n",
    "# env\n",
    "# ACCESS_KEY = os.environ.get('AWS_ACCESS_KEY_ID')\n",
    "# SECRET_KEY = os.environ.get('AWS_SECRET_ACCESS_KEY')\n",
    "client = boto3.client('kinesisvideo', region_name='ap-northeast-1')\n",
    "\n",
    "# response = client.list_streams()\n",
    "# print(response)\n",
    "\n",
    "\n",
    "device = torch.device(\"cuda\" if torch.cuda.is_available() else \"cpu\")\n",
    "print(device)\n",
    "\n",
    "\n",
    "transforms = build_transforms(mode='c3d')\n",
    "\n",
    "\n",
    "anomaly_detector, feature_extractor = load_models(\n",
    "        feature_extractor_path = 'pretrained/c3d.pickle',\n",
    "        ad_model_path = 'exps/c3d/models/epoch_80000.pt',\n",
    "        features_method = 'c3d',\n",
    "        device = device,\n",
    ")\n"
   ]
  },
  {
   "cell_type": "code",
   "execution_count": 2,
   "metadata": {},
   "outputs": [],
   "source": [
    "def get_data_endpoint(stream_name: str, api_name: str) -> str:\n",
    "    \"\"\"\n",
    "    call GetDataEndpoint API\n",
    "    https://docs.aws.amazon.com/kinesisvideostreams/latest/dg/API_GetDataEndpoint.html\n",
    "    \"\"\"\n",
    "    kinesis_video = boto3.client(\"kinesisvideo\", region_name='ap-northeast-1')\n",
    "    res = kinesis_video.get_data_endpoint(StreamName=stream_name, APIName=api_name)\n",
    "    return res[\"DataEndpoint\"]\n",
    "\n",
    "\n",
    "def get_hls_streaming_session_url(stream_name: str) -> str:\n",
    "    \"\"\"\n",
    "    call GetHLSStreamingSessionURL API\n",
    "    https://docs.aws.amazon.com/kinesisvideostreams/latest/dg/API_reader_GetHLSStreamingSessionURL.html\n",
    "    \"\"\"\n",
    "    res = boto3.client(\n",
    "        \"kinesis-video-archived-media\", endpoint_url=get_data_endpoint(stream_name, \"GET_HLS_STREAMING_SESSION_URL\"), region_name='ap-northeast-1'\n",
    "    ).get_hls_streaming_session_url(\n",
    "        StreamName=stream_name,\n",
    "        PlaybackMode=\"LIVE\"\n",
    "    )\n",
    "    return res[\"HLSStreamingSessionURL\"]\n"
   ]
  },
  {
   "cell_type": "code",
   "execution_count": 3,
   "metadata": {},
   "outputs": [],
   "source": [
    "def extract_features(frames):\n",
    "    frames = torch.tensor(frames)\n",
    "    frames = transforms(frames).to(device)\n",
    "    data = frames[:, range(0, frames.shape[1], 1), ...]\n",
    "    data = data.unsqueeze(0)\n",
    "    with torch.no_grad():\n",
    "        outputs = feature_extractor(data.to(device)).detach().cpu()\n",
    "\n",
    "    return to_segments(outputs.numpy(), 1)\n",
    "\n",
    "\n",
    "def predict_anomaly_score(features):\n",
    "    features = torch.tensor(features).to(device)\n",
    "    with torch.no_grad():\n",
    "        preds = anomaly_detector(features)\n",
    "\n",
    "    return preds.detach().cpu().numpy().flatten()"
   ]
  },
  {
   "cell_type": "code",
   "execution_count": 6,
   "metadata": {},
   "outputs": [
    {
     "name": "stdout",
     "output_type": "stream",
     "text": [
      "0.03 200\n",
      "0.03 200\n",
      "0.03 200\n",
      "0.03 200\n",
      "0.03 200\n",
      "0.03 200\n",
      "0.04 200\n",
      "0.03 200\n",
      "0.03 200\n",
      "0.04 200\n",
      "0.03 200\n",
      "0.03 200\n",
      "0.03 200\n",
      "0.03 200\n",
      "0.03 200\n",
      "0.04 200\n",
      "0.04 200\n",
      "0.03 200\n",
      "0.03 200\n",
      "0.04 200\n",
      "0.03 200\n",
      "0.03 200\n",
      "0.03 200\n",
      "0.03 200\n",
      "0.03 200\n"
     ]
    },
    {
     "ename": "KeyboardInterrupt",
     "evalue": "",
     "output_type": "error",
     "traceback": [
      "\u001b[1;31m---------------------------------------------------------------------------\u001b[0m",
      "\u001b[1;31mKeyboardInterrupt\u001b[0m                         Traceback (most recent call last)",
      "\u001b[1;32mセル4 を d:\\User\\Desktop\\LIVEPrediction\\main.ipynb\u001b[0m in \u001b[0;36m<module>\u001b[1;34m\u001b[0m\n\u001b[0;32m     <a href='vscode-notebook-cell:/d%3A/User/Desktop/LIVEPrediction/main.ipynb#W3sZmlsZQ%3D%3D?line=14'>15</a>\u001b[0m     sys\u001b[39m.\u001b[39mexit()\n\u001b[0;32m     <a href='vscode-notebook-cell:/d%3A/User/Desktop/LIVEPrediction/main.ipynb#W3sZmlsZQ%3D%3D?line=16'>17</a>\u001b[0m \u001b[39mwhile\u001b[39;00m \u001b[39mTrue\u001b[39;00m:\n\u001b[1;32m---> <a href='vscode-notebook-cell:/d%3A/User/Desktop/LIVEPrediction/main.ipynb#W3sZmlsZQ%3D%3D?line=17'>18</a>\u001b[0m     ret, frame \u001b[39m=\u001b[39m cap\u001b[39m.\u001b[39;49mread()\n\u001b[0;32m     <a href='vscode-notebook-cell:/d%3A/User/Desktop/LIVEPrediction/main.ipynb#W3sZmlsZQ%3D%3D?line=18'>19</a>\u001b[0m     frame \u001b[39m=\u001b[39m cv2\u001b[39m.\u001b[39mflip(frame, \u001b[39m1\u001b[39m)\n\u001b[0;32m     <a href='vscode-notebook-cell:/d%3A/User/Desktop/LIVEPrediction/main.ipynb#W3sZmlsZQ%3D%3D?line=19'>20</a>\u001b[0m     \u001b[39mif\u001b[39;00m ret:\n",
      "\u001b[1;31mKeyboardInterrupt\u001b[0m: "
     ]
    }
   ],
   "source": [
    "stream_name = 'ry-itano-vstream'\n",
    "hls_url = get_hls_streaming_session_url(stream_name)\n",
    "cap = cv2.VideoCapture(hls_url)\n",
    "\n",
    "# cap = cv2.VideoCapture(0)\n",
    "\n",
    "data_stream = boto3.client('kinesis', region_name='ap-northeast-1')\n",
    "\n",
    "# window_name = 'LIVE Camera'\n",
    "delay = 1\n",
    "clip_len = 16\n",
    "queue = []\n",
    "\n",
    "if not cap.isOpened():\n",
    "    sys.exit()\n",
    "\n",
    "while True:\n",
    "    ret, frame = cap.read()\n",
    "    frame = cv2.flip(frame, 1)\n",
    "    if ret:\n",
    "        queue.append(frame)\n",
    "\n",
    "        if len(queue) == clip_len:\n",
    "\n",
    "            frames = copy(queue)\n",
    "            features = extract_features(frames=frames)\n",
    "            score = predict_anomaly_score(features=features)\n",
    "            res = data_stream.put_record(StreamName='ry-itano-anomaly-detection-stream', Data='{:.2f}'.format(score[0]*100), PartitionKey='123')\n",
    "            print('{:.2f}'.format(score[0]*100), res['ResponseMetadata']['HTTPStatusCode'])\n",
    "            queue.clear()\n",
    "            \n",
    "        # cv2.imshow(window_name, frame)\n",
    "        if cv2.waitKey(delay) & 0xFF == ord('q'):\n",
    "            break\n",
    "    else:\n",
    "        cap.set(cv2.CAP_PROP_POS_FRAMES, 0)\n",
    "\n",
    "# cv2.destroyWindow(window_name)"
   ]
  },
  {
   "cell_type": "code",
   "execution_count": 7,
   "metadata": {},
   "outputs": [
    {
     "name": "stdout",
     "output_type": "stream",
     "text": [
      "Saved!\n"
     ]
    }
   ],
   "source": [
    "#-------------------run-only-in-ipynb-environment-------------------------------\n",
    "\n",
    "# ※CAUTION※ Save this file before executing the following code!!!\n",
    "# Generate py from ipynb and save it automatically\n",
    "\n",
    "if 'get_ipython' in globals():\n",
    "    import subprocess\n",
    "    subprocess.run(['jupyter', 'nbconvert', '--to', 'python', '*.ipynb'])\n",
    "    print('Saved!')\n",
    "# End of if 'if 'get_ipython' in globals():'\n",
    "\n",
    "#-------------------run-only-in-ipynb-environment-------------------------------"
   ]
  }
 ],
 "metadata": {
  "kernelspec": {
   "display_name": "Python 3.9.10 64-bit",
   "language": "python",
   "name": "python3"
  },
  "language_info": {
   "codemirror_mode": {
    "name": "ipython",
    "version": 3
   },
   "file_extension": ".py",
   "mimetype": "text/x-python",
   "name": "python",
   "nbconvert_exporter": "python",
   "pygments_lexer": "ipython3",
   "version": "3.9.10"
  },
  "orig_nbformat": 4,
  "vscode": {
   "interpreter": {
    "hash": "4cd44369d4e5e6716811449bbc7dee07bd01c0a28d8ab599bb9954d792870845"
   }
  }
 },
 "nbformat": 4,
 "nbformat_minor": 2
}
